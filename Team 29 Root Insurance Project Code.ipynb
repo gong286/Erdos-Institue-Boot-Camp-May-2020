{
 "cells": [
  {
   "cell_type": "code",
   "execution_count": null,
   "metadata": {},
   "outputs": [],
   "source": [
    "#The Project -- Root Insurance Challenge ########################################################"
   ]
  },
  {
   "cell_type": "code",
   "execution_count": 192,
   "metadata": {},
   "outputs": [
    {
     "name": "stdout",
     "output_type": "stream",
     "text": [
      "   impression_id  click  cost  number_of_vehicles  number_of_drivers  rank  \\\n",
      "0              1      1    10                   1                  1     1   \n",
      "1              2      0    10                   2                  1     4   \n",
      "2              3      0    10                   1                  1     2   \n",
      "\n",
      "   policiessold  currently_insured  marital_status  \n",
      "0             1                  1               1  \n",
      "1             0                  1               1  \n",
      "2             0                  1               2  \n"
     ]
    }
   ],
   "source": [
    "#Import the data\n",
    "import pandas as pd\n",
    "pd.options.mode.chained_assignment = None\n",
    "data = pd.read_csv(\"Acme.csv\") #Read into dataframe\n",
    "print(data.head(3))"
   ]
  },
  {
   "cell_type": "code",
   "execution_count": 193,
   "metadata": {},
   "outputs": [],
   "source": [
    "import matplotlib.pyplot as plt\n",
    "import numpy as np"
   ]
  },
  {
   "cell_type": "code",
   "execution_count": 194,
   "metadata": {},
   "outputs": [
    {
     "name": "stdout",
     "output_type": "stream",
     "text": [
      "The unconditional probability of purchasing after clicking is 0.39665211062590977\n"
     ]
    }
   ],
   "source": [
    "#Calculate current cost\n",
    "#Probability of purchase, once clicked\n",
    "sum_click = data['click'].sum()\n",
    "sum_sold = data['policiessold'].sum()\n",
    "print('The unconditional probability of purchasing after clicking is', sum_sold/sum_click)"
   ]
  },
  {
   "cell_type": "code",
   "execution_count": 195,
   "metadata": {},
   "outputs": [],
   "source": [
    "##############The probability of purchase conditional on click ###################################"
   ]
  },
  {
   "cell_type": "code",
   "execution_count": 196,
   "metadata": {},
   "outputs": [],
   "source": [
    "#Calculate the probability by frequency\n",
    "data2 = data[data['click'] > 0]; \n",
    "grouped = data2.groupby(['number_of_vehicles','number_of_drivers','currently_insured','marital_status']).agg({'policiessold': 'sum'})\n",
    "grouped2 = data2.groupby(['number_of_vehicles','number_of_drivers','currently_insured','marital_status']).agg({'click': 'count'})\n",
    "grouped2_new = grouped2.rename(columns={'click': 'policiessold'})\n",
    "freq_purch = grouped/grouped2_new\n",
    "freq_purch = freq_purch.round(4)\n",
    "\n",
    "#Output into Latex\n",
    "#print(freq_purch.to_latex())"
   ]
  },
  {
   "cell_type": "code",
   "execution_count": 197,
   "metadata": {},
   "outputs": [],
   "source": [
    "#Calculate the probability by frequency\n",
    "grouped = data.groupby(['number_of_vehicles','number_of_drivers','currently_insured','marital_status','rank']).agg({'click': 'sum'})\n",
    "grouped2 = data.groupby(['number_of_vehicles','number_of_drivers','currently_insured','marital_status','rank']).agg({'click': 'count'})\n",
    "freq_click = grouped/grouped2\n",
    "freq_click = freq_click.round(4)\n",
    "\n",
    "#Output into Latex\n",
    "#print(freq_click.to_latex())"
   ]
  },
  {
   "cell_type": "code",
   "execution_count": 198,
   "metadata": {},
   "outputs": [],
   "source": [
    "#Solve this by the classfication trees ===========================#\n",
    "from sklearn import tree\n",
    "clf = tree.DecisionTreeClassifier()\n",
    "X = data2[['number_of_vehicles','number_of_drivers','currently_insured','marital_status']]\n",
    "Y = data2[['policiessold']]\n",
    "clf.fit(X, Y)\n",
    "probs_trees = clf.predict_proba(X)"
   ]
  },
  {
   "cell_type": "code",
   "execution_count": 199,
   "metadata": {},
   "outputs": [],
   "source": [
    "#Solve this by the random forest ===========================#\n",
    "from sklearn.ensemble import RandomForestClassifier\n",
    "import random\n",
    "random.seed(2991)\n",
    "clf = RandomForestClassifier()\n",
    "clf.fit(X, Y.values.ravel())\n",
    "probs_rf = clf.predict_proba(X)\n",
    "probs_rf = probs_rf[:,1] #Note, the starting column number is 0! and 0 corresponding to 0, 1 corresponding to 1.\n",
    "data2['probs_rf'] = probs_rf"
   ]
  },
  {
   "cell_type": "code",
   "execution_count": 200,
   "metadata": {},
   "outputs": [],
   "source": [
    "grouped = data2.groupby(['number_of_vehicles','number_of_drivers','currently_insured','marital_status'])\n",
    "rf_probs = pd.DataFrame(grouped.mean()['probs_rf'])\n",
    "rf_probs = rf_probs.round(4)\n",
    "#print(rf_probs.to_latex())"
   ]
  },
  {
   "cell_type": "code",
   "execution_count": 201,
   "metadata": {},
   "outputs": [],
   "source": [
    "#Calculate the probability by weighted SVM ===========================#\n",
    "from sklearn import svm\n",
    "#Between 0-1, generate arithmetic sequence\n",
    "weight = [i/500.0 for i in range(500)];\n",
    "#Need to delete the first, because either all 0.\n",
    "#And there seems some problem with all 0 case\n",
    "del weight[0]"
   ]
  },
  {
   "cell_type": "code",
   "execution_count": 107,
   "metadata": {},
   "outputs": [],
   "source": [
    "#Loops\n",
    "y_pred = np.array(np.zeros((len(X),len(weight))))\n",
    "arr_Y = Y.to_numpy()\n",
    "for i in range(len(weight)):\n",
    "    #Calculate the weight: 1 -- 1-weight; 0 -- weight\n",
    "    #Because it is probability estimation, weighted-SVM cannot have the test sample!\n",
    "    sw = np.zeros(len(arr_Y)) + weight[i]\n",
    "    sw[arr_Y.ravel() > 0] = 1 - weight[i]\n",
    "    clf_weights = svm.SVC()\n",
    "    clf_weights.fit(X, arr_Y.ravel(), sample_weight = sw)   \n",
    "    #Save the results for each weight, and calculate the weight as estimated probability\n",
    "    temp = clf_weights.predict(X)    \n",
    "    #Save this into a big array\n",
    "    y_pred[:,i] = temp.ravel()"
   ]
  },
  {
   "cell_type": "code",
   "execution_count": 108,
   "metadata": {},
   "outputs": [],
   "source": [
    "#Calculate the estimated probability from the weights\n",
    "#Should be the midpoint of min(0) and max(1)\n",
    "#Find the first non-one number, and its position, for each row\n",
    "def first_nonone(arr, axis, invalid_val=-1):\n",
    "    mask = arr!=0\n",
    "    return np.where(mask.any(axis=axis), mask.argmin(axis=axis), invalid_val)\n",
    "\n",
    "FN = first_nonone(y_pred, axis=1, invalid_val=-1) #First non-one\n",
    "LO = FN - 1 #Last one\n",
    "arr_w = np.array(weight)\n",
    "probs_SVM = (arr_w[FN] + arr_w[LO])/2\n",
    "data2['probs_SVM'] = probs_SVM"
   ]
  },
  {
   "cell_type": "code",
   "execution_count": 110,
   "metadata": {},
   "outputs": [],
   "source": [
    "grouped = data2.groupby(['number_of_vehicles','number_of_drivers','currently_insured','marital_status'])\n",
    "SVM_probs = pd.DataFrame(grouped.mean()['probs_SVM'])\n",
    "#SVM_probs"
   ]
  },
  {
   "cell_type": "code",
   "execution_count": null,
   "metadata": {},
   "outputs": [],
   "source": [
    "###############The probability of click ###################################"
   ]
  },
  {
   "cell_type": "code",
   "execution_count": 202,
   "metadata": {},
   "outputs": [],
   "source": [
    "#Solve this by the classfication trees\n",
    "from sklearn import tree\n",
    "clf = tree.DecisionTreeClassifier()\n",
    "X = data[['number_of_vehicles','number_of_drivers','currently_insured','marital_status','rank']]\n",
    "Y = data[['click']]\n",
    "clf.fit(X, Y)\n",
    "probs_trees = clf.predict_proba(X)"
   ]
  },
  {
   "cell_type": "code",
   "execution_count": 203,
   "metadata": {},
   "outputs": [],
   "source": [
    "#Solve this by the random forest\n",
    "from sklearn.ensemble import RandomForestClassifier\n",
    "import random\n",
    "random.seed(2991)\n",
    "clf = RandomForestClassifier()\n",
    "clf.fit(X, Y.values.ravel())\n",
    "probs_rf = clf.predict_proba(X)\n",
    "probs_rf = probs_rf[:,1] #Note, the starting column number is 0!\n",
    "data['probs_rf'] = probs_rf"
   ]
  },
  {
   "cell_type": "code",
   "execution_count": 204,
   "metadata": {},
   "outputs": [],
   "source": [
    "grouped = data.groupby(['number_of_vehicles','number_of_drivers','currently_insured','marital_status','rank'])\n",
    "rf_probs = pd.DataFrame(grouped.mean()['probs_rf'])\n",
    "rf_probs = rf_probs.round(4)\n",
    "#print(rf_probs.to_latex())"
   ]
  },
  {
   "cell_type": "code",
   "execution_count": 205,
   "metadata": {},
   "outputs": [],
   "source": [
    "#Click, conditional on rank only\n",
    "grouped = data.groupby(['rank'])['click'].agg(['sum','count'])\n",
    "unc_prob_rank = pd.DataFrame(grouped)\n",
    "unc_prob_rank = unc_prob_rank['sum']/unc_prob_rank['count']\n",
    "unc_prob_rank = unc_prob_rank.round(4)"
   ]
  },
  {
   "cell_type": "code",
   "execution_count": 206,
   "metadata": {},
   "outputs": [],
   "source": [
    "###############The proportion of each group ###################################"
   ]
  },
  {
   "cell_type": "code",
   "execution_count": 207,
   "metadata": {},
   "outputs": [],
   "source": [
    "#Get the unconditional proportion of each type\n",
    "grouped = data.groupby(['number_of_vehicles','number_of_drivers','currently_insured','marital_status']).agg({'policiessold': 'count'})\n",
    "#prop_type = grouped(level = 0).apply(lambda x: 100*x/float(x.sum()))\n",
    "prop_type = grouped.apply(lambda x: 100*x/float(x.sum()))\n",
    "prop_type = prop_type.round(4)\n",
    "#print(prop_type.to_latex())"
   ]
  },
  {
   "cell_type": "code",
   "execution_count": 208,
   "metadata": {},
   "outputs": [],
   "source": [
    "#Get the rank for each type\n",
    "grouped = data.groupby(['number_of_vehicles','number_of_drivers','currently_insured','marital_status']).agg({'rank': 'mean'})\n",
    "grouped = grouped.round(4)\n",
    "#print(grouped.to_latex())"
   ]
  },
  {
   "cell_type": "code",
   "execution_count": 209,
   "metadata": {},
   "outputs": [],
   "source": [
    "#Get the conditional distribution of rank, for each type, given all potentially cost 10\n",
    "#Use random forest, needs to have multiple categories!\n",
    "\n",
    "random.seed(2991)\n",
    "clf = RandomForestClassifier()\n",
    "X = data[['number_of_vehicles','number_of_drivers','currently_insured','marital_status']]\n",
    "Y = data[['rank']]\n",
    "clf.fit(X, Y.values.ravel())\n",
    "probs_rank = clf.predict_proba(X)\n",
    "\n",
    "data['P_r1'] = probs_rank[:,0]\n",
    "data['P_r2'] = probs_rank[:,1]\n",
    "data['P_r3'] = probs_rank[:,2]\n",
    "data['P_r4'] = probs_rank[:,3]\n",
    "data['P_r5'] = probs_rank[:,4]"
   ]
  },
  {
   "cell_type": "code",
   "execution_count": 210,
   "metadata": {},
   "outputs": [],
   "source": [
    "#Calculate Summary\n",
    "grouped = data.groupby(['number_of_vehicles','number_of_drivers','currently_insured','marital_status']).agg({'P_r1':'mean','P_r2':'mean','P_r3':'mean','P_r4':'mean','P_r5':'mean'})\n",
    "grouped = grouped.round(4)\n",
    "#print(grouped.to_latex())"
   ]
  }
 ],
 "metadata": {
  "kernelspec": {
   "display_name": "Python 3",
   "language": "python",
   "name": "python3"
  },
  "language_info": {
   "codemirror_mode": {
    "name": "ipython",
    "version": 3
   },
   "file_extension": ".py",
   "mimetype": "text/x-python",
   "name": "python",
   "nbconvert_exporter": "python",
   "pygments_lexer": "ipython3",
   "version": "3.7.6"
  }
 },
 "nbformat": 4,
 "nbformat_minor": 4
}
